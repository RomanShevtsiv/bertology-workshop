{
 "cells": [
  {
   "cell_type": "code",
   "execution_count": 4,
   "metadata": {},
   "outputs": [],
   "source": [
    "import sys\n",
    "sys.path.append('..')"
   ]
  },
  {
   "cell_type": "code",
   "execution_count": 2,
   "metadata": {},
   "outputs": [
    {
     "data": {
      "text/plain": [
       "['/dvl/nlp/learning/bertology-workshop/.pyenv/lib/python36.zip',\n",
       " '/dvl/nlp/learning/bertology-workshop/.pyenv/lib/python3.6',\n",
       " '/dvl/nlp/learning/bertology-workshop/.pyenv/lib/python3.6/lib-dynload',\n",
       " '/usr/local/Cellar/python/3.6.5_1/Frameworks/Python.framework/Versions/3.6/lib/python3.6',\n",
       " '',\n",
       " '/dvl/nlp/learning/bertology-workshop/.pyenv/lib/python3.6/site-packages',\n",
       " '/dvl/nlp/learning/bertology-workshop/vendor/transformers/src',\n",
       " '/dvl/nlp/learning/bertology-workshop/vendor/wandb-client',\n",
       " '/dvl/nlp/learning/bertology-workshop/vendor/pytorch-lightning',\n",
       " '/dvl/nlp/learning/bertology-workshop/.pyenv/lib/python3.6/site-packages/IPython/extensions',\n",
       " '/Users/diunko/.ipython']"
      ]
     },
     "execution_count": 2,
     "metadata": {},
     "output_type": "execute_result"
    }
   ],
   "source": [
    "sys.path"
   ]
  },
  {
   "cell_type": "code",
   "execution_count": 5,
   "metadata": {},
   "outputs": [],
   "source": [
    "import bertology"
   ]
  }
 ],
 "metadata": {
  "kernelspec": {
   "display_name": "Python 3",
   "language": "python",
   "name": "python3"
  },
  "language_info": {
   "codemirror_mode": {
    "name": "ipython",
    "version": 3
   },
   "file_extension": ".py",
   "mimetype": "text/x-python",
   "name": "python",
   "nbconvert_exporter": "python",
   "pygments_lexer": "ipython3",
   "version": "3.6.5"
  }
 },
 "nbformat": 4,
 "nbformat_minor": 4
}
