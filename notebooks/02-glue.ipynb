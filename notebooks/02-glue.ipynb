{
 "cells": [
  {
   "cell_type": "code",
   "execution_count": 1,
   "metadata": {
    "collapsed": true
   },
   "outputs": [
    {
     "name": "stdout",
     "output_type": "stream",
     "text": [
      "/dvl/nlp/learning/bertology-workshop\n"
     ]
    },
    {
     "data": {
      "text/plain": "'/dvl/nlp/learning/bertology-workshop'"
     },
     "execution_count": 1,
     "metadata": {},
     "output_type": "execute_result"
    }
   ],
   "source": [
    "def bootstrap():\n",
    "    dir = %pwd\n",
    "    if dir.endswith('/bertology-workshop'):\n",
    "        # we're set\n",
    "        pass\n",
    "    elif dir.endswith('bertology-workshop/notebooks'):\n",
    "        # looks like we're inside jupyter\n",
    "        %cd ..\n",
    "    elif dir == '/content':\n",
    "        # looks like we're on colab\n",
    "        !git clone git://github.com:diunko/bertology-workshop\n",
    "        %cd bertology-workshop\n",
    "    else:\n",
    "        raise RuntimeError('I have to be launched from colab or from '\n",
    "                           'bertology-workshop/notebooks')\n",
    "    dir = %pwd\n",
    "    return dir\n",
    "bootstrap()"
   ]
  },
  {
   "cell_type": "code",
   "execution_count": 2,
   "outputs": [
    {
     "name": "stdout",
     "output_type": "stream",
     "text": [
      "\u001B[33m      WARNING: Cannot remove entries from nonexistent file /dvl/nlp/learning/bertology-workshop/.pyenv/lib/python3.6/site-packages/easy-install.pth\u001B[0m\r\n"
     ]
    }
   ],
   "source": [
    "!make requirements > /dev/null"
   ],
   "metadata": {
    "collapsed": false,
    "pycharm": {
     "name": "#%%\n"
    }
   }
  },
  {
   "cell_type": "markdown",
   "source": [
    "### Download GLUE data"
   ],
   "metadata": {
    "collapsed": false,
    "pycharm": {
     "name": "#%% md\n"
    }
   }
  },
  {
   "cell_type": "code",
   "execution_count": 3,
   "outputs": [
    {
     "name": "stdout",
     "output_type": "stream",
     "text": [
      "make: Nothing to be done for `data/glue'.\r\n"
     ]
    }
   ],
   "source": [
    "!make data/glue"
   ],
   "metadata": {
    "collapsed": false,
    "pycharm": {
     "name": "#%%\n"
    }
   }
  },
  {
   "cell_type": "code",
   "execution_count": 2,
   "outputs": [
    {
     "name": "stderr",
     "output_type": "stream",
     "text": [
      "INFO:transformers.file_utils:PyTorch version 1.5.0 available.\n"
     ]
    }
   ],
   "source": [
    "import os\n",
    "import time\n",
    "import glob\n",
    "\n",
    "import torch\n",
    "\n",
    "from bertology.glue import GLUETransformer\n",
    "from bertology.glue import generic_train\n",
    "from bertology.utils import args_to_dict, dict_to_args"
   ],
   "metadata": {
    "collapsed": false,
    "pycharm": {
     "name": "#%%\n"
    }
   }
  },
  {
   "cell_type": "code",
   "execution_count": 6,
   "outputs": [
    {
     "name": "stdout",
     "output_type": "stream",
     "text": [
      "usage: ipykernel_launcher.py [-h] [--output_dir OUTPUT_DIR] [--fp16]\n",
      "                             [--fp16_opt_level FP16_OPT_LEVEL] [--n_gpu N_GPU]\n",
      "                             [--n_tpu_cores N_TPU_CORES]\n",
      "                             [--max_grad_norm MAX_GRAD_NORM] [--fast_dev_run]\n",
      "                             [--do_train] [--do_predict]\n",
      "                             [--gradient_accumulation_steps GRADIENT_ACCUMULATION_STEPS]\n",
      "                             [--seed SEED] --model_name_or_path\n",
      "                             MODEL_NAME_OR_PATH [--config_name CONFIG_NAME]\n",
      "                             [--tokenizer_name TOKENIZER_NAME]\n",
      "                             [--cache_dir CACHE_DIR]\n",
      "                             [--learning_rate LEARNING_RATE]\n",
      "                             [--weight_decay WEIGHT_DECAY]\n",
      "                             [--adam_epsilon ADAM_EPSILON]\n",
      "                             [--warmup_steps WARMUP_STEPS]\n",
      "                             [--num_train_epochs NUM_TRAIN_EPOCHS]\n",
      "                             [--train_batch_size TRAIN_BATCH_SIZE]\n",
      "                             [--eval_batch_size EVAL_BATCH_SIZE]\n",
      "                             [--max_seq_length MAX_SEQ_LENGTH] --task TASK\n",
      "                             --data_dir DATA_DIR [--overwrite_cache]\n",
      "\n",
      "optional arguments:\n",
      "  -h, --help            show this help message and exit\n",
      "  --output_dir OUTPUT_DIR\n",
      "                        The output directory where the model predictions and\n",
      "                        checkpoints will be written.\n",
      "  --fp16                Whether to use 16-bit (mixed) precision (through\n",
      "                        NVIDIA apex) instead of 32-bit\n",
      "  --fp16_opt_level FP16_OPT_LEVEL\n",
      "                        For fp16: Apex AMP optimization level selected in\n",
      "                        ['O0', 'O1', 'O2', and 'O3'].See details at\n",
      "                        https://nvidia.github.io/apex/amp.html\n",
      "  --n_gpu N_GPU\n",
      "  --n_tpu_cores N_TPU_CORES\n",
      "  --max_grad_norm MAX_GRAD_NORM\n",
      "                        Max gradient norm.\n",
      "  --fast_dev_run        Run everything on one batch\n",
      "  --do_train            Whether to run training.\n",
      "  --do_predict          Whether to run predictions on the test set.\n",
      "  --gradient_accumulation_steps GRADIENT_ACCUMULATION_STEPS\n",
      "                        Number of updates steps to accumulate before\n",
      "                        performing a backward/update pass.\n",
      "  --seed SEED           random seed for initialization\n",
      "  --model_name_or_path MODEL_NAME_OR_PATH\n",
      "                        Path to pretrained model or model identifier from\n",
      "                        huggingface.co/models\n",
      "  --config_name CONFIG_NAME\n",
      "                        Pretrained config name or path if not the same as\n",
      "                        model_name\n",
      "  --tokenizer_name TOKENIZER_NAME\n",
      "                        Pretrained tokenizer name or path if not the same as\n",
      "                        model_name\n",
      "  --cache_dir CACHE_DIR\n",
      "                        Where do you want to store the pre-trained models\n",
      "                        downloaded from s3\n",
      "  --learning_rate LEARNING_RATE\n",
      "                        The initial learning rate for Adam.\n",
      "  --weight_decay WEIGHT_DECAY\n",
      "                        Weight decay if we apply some.\n",
      "  --adam_epsilon ADAM_EPSILON\n",
      "                        Epsilon for Adam optimizer.\n",
      "  --warmup_steps WARMUP_STEPS\n",
      "                        Linear warmup over warmup_steps.\n",
      "  --num_train_epochs NUM_TRAIN_EPOCHS\n",
      "                        Total number of training epochs to perform.\n",
      "  --train_batch_size TRAIN_BATCH_SIZE\n",
      "  --eval_batch_size EVAL_BATCH_SIZE\n",
      "  --max_seq_length MAX_SEQ_LENGTH\n",
      "                        The maximum total input sequence length after\n",
      "                        tokenization. Sequences longer than this will be\n",
      "                        truncated, sequences shorter will be padded.\n",
      "  --task TASK           The GLUE task to run\n",
      "  --data_dir DATA_DIR   The input data dir. Should contain the training files\n",
      "                        for the CoNLL-2003 NER task.\n",
      "  --overwrite_cache     Overwrite the cached training and evaluation sets\n"
     ]
    },
    {
     "ename": "SystemExit",
     "evalue": "0",
     "output_type": "error",
     "traceback": [
      "An exception has occurred, use %tb to see the full traceback.\n",
      "\u001B[0;31mSystemExit\u001B[0m\u001B[0;31m:\u001B[0m 0\n"
     ]
    },
    {
     "name": "stderr",
     "output_type": "stream",
     "text": [
      "/dvl/nlp/learning/bertology-workshop/.pyenv/lib/python3.6/site-packages/IPython/core/interactiveshell.py:3339: UserWarning: To exit: use 'exit', 'quit', or Ctrl-D.\n",
      "  warn(\"To exit: use 'exit', 'quit', or Ctrl-D.\", stacklevel=1)\n"
     ]
    }
   ],
   "source": [
    "GLUETransformer.from_dict(dict(help=True))"
   ],
   "metadata": {
    "collapsed": false,
    "pycharm": {
     "name": "#%%\n"
    }
   }
  },
  {
   "cell_type": "code",
   "execution_count": 3,
   "outputs": [
    {
     "name": "stderr",
     "output_type": "stream",
     "text": [
      "INFO:bertology.glue:hparams: {\n",
      "  \"output_dir\": null,\n",
      "  \"fp16\": false,\n",
      "  \"fp16_opt_level\": \"O1\",\n",
      "  \"n_gpu\": -1,\n",
      "  \"n_tpu_cores\": 0,\n",
      "  \"max_grad_norm\": 1.0,\n",
      "  \"fast_dev_run\": true,\n",
      "  \"do_train\": false,\n",
      "  \"do_predict\": false,\n",
      "  \"gradient_accumulation_steps\": 1,\n",
      "  \"seed\": 42,\n",
      "  \"model_name_or_path\": \"bert-base-cased\",\n",
      "  \"config_name\": \"\",\n",
      "  \"tokenizer_name\": \"\",\n",
      "  \"cache_dir\": \"\",\n",
      "  \"learning_rate\": 5e-05,\n",
      "  \"weight_decay\": 0.0,\n",
      "  \"adam_epsilon\": 1e-08,\n",
      "  \"warmup_steps\": 0,\n",
      "  \"num_train_epochs\": 3,\n",
      "  \"train_batch_size\": 1,\n",
      "  \"eval_batch_size\": 32,\n",
      "  \"max_seq_length\": 128,\n",
      "  \"task\": \"mrpc\",\n",
      "  \"data_dir\": \"data/glue/MRPC\",\n",
      "  \"overwrite_cache\": false\n",
      "}\n",
      "INFO:transformers.configuration_utils:loading configuration file https://s3.amazonaws.com/models.huggingface.co/bert/bert-base-cased-config.json from cache at /Users/diunko/.cache/torch/transformers/b945b69218e98b3e2c95acf911789741307dec43c698d35fad11c1ae28bda352.9da767be51e1327499df13488672789394e2ca38b877837e52618a67d7002391\n",
      "INFO:transformers.configuration_utils:Model config BertConfig {\n",
      "  \"architectures\": [\n",
      "    \"BertForMaskedLM\"\n",
      "  ],\n",
      "  \"attention_probs_dropout_prob\": 0.1,\n",
      "  \"hidden_act\": \"gelu\",\n",
      "  \"hidden_dropout_prob\": 0.1,\n",
      "  \"hidden_size\": 768,\n",
      "  \"initializer_range\": 0.02,\n",
      "  \"intermediate_size\": 3072,\n",
      "  \"layer_norm_eps\": 1e-12,\n",
      "  \"max_position_embeddings\": 512,\n",
      "  \"model_type\": \"bert\",\n",
      "  \"num_attention_heads\": 12,\n",
      "  \"num_hidden_layers\": 12,\n",
      "  \"pad_token_id\": 0,\n",
      "  \"type_vocab_size\": 2,\n",
      "  \"vocab_size\": 28996\n",
      "}\n",
      "\n",
      "INFO:transformers.configuration_utils:loading configuration file https://s3.amazonaws.com/models.huggingface.co/bert/bert-base-cased-config.json from cache at /Users/diunko/.cache/torch/transformers/b945b69218e98b3e2c95acf911789741307dec43c698d35fad11c1ae28bda352.9da767be51e1327499df13488672789394e2ca38b877837e52618a67d7002391\n",
      "INFO:transformers.configuration_utils:Model config BertConfig {\n",
      "  \"architectures\": [\n",
      "    \"BertForMaskedLM\"\n",
      "  ],\n",
      "  \"attention_probs_dropout_prob\": 0.1,\n",
      "  \"hidden_act\": \"gelu\",\n",
      "  \"hidden_dropout_prob\": 0.1,\n",
      "  \"hidden_size\": 768,\n",
      "  \"initializer_range\": 0.02,\n",
      "  \"intermediate_size\": 3072,\n",
      "  \"layer_norm_eps\": 1e-12,\n",
      "  \"max_position_embeddings\": 512,\n",
      "  \"model_type\": \"bert\",\n",
      "  \"num_attention_heads\": 12,\n",
      "  \"num_hidden_layers\": 12,\n",
      "  \"pad_token_id\": 0,\n",
      "  \"type_vocab_size\": 2,\n",
      "  \"vocab_size\": 28996\n",
      "}\n",
      "\n",
      "INFO:transformers.tokenization_utils:loading file https://s3.amazonaws.com/models.huggingface.co/bert/bert-base-cased-vocab.txt from cache at /Users/diunko/.cache/torch/transformers/5e8a2b4893d13790ed4150ca1906be5f7a03d6c4ddf62296c383f6db42814db2.e13dbb970cb325137104fb2e5f36fe865f27746c6b526f6352861b1980eb80b1\n",
      "INFO:transformers.modeling_utils:loading weights file https://cdn.huggingface.co/bert-base-cased-pytorch_model.bin from cache at /Users/diunko/.cache/torch/transformers/d8f11f061e407be64c4d5d7867ee61d1465263e24085cfa26abf183fdc830569.3fadbea36527ae472139fe84cddaa65454d7429f12d543d80bfc3ad70de55ac2\n",
      "INFO:transformers.modeling_utils:Weights of BertForSequenceClassification not initialized from pretrained model: ['classifier.weight', 'classifier.bias']\n",
      "INFO:transformers.modeling_utils:Weights from pretrained model not used in BertForSequenceClassification: ['cls.predictions.bias', 'cls.predictions.transform.dense.weight', 'cls.predictions.transform.dense.bias', 'cls.predictions.decoder.weight', 'cls.seq_relationship.weight', 'cls.seq_relationship.bias', 'cls.predictions.transform.LayerNorm.weight', 'cls.predictions.transform.LayerNorm.bias']\n"
     ]
    },
    {
     "data": {
      "text/plain": "{'output_dir': None,\n 'fp16': False,\n 'fp16_opt_level': 'O1',\n 'n_gpu': -1,\n 'n_tpu_cores': 0,\n 'max_grad_norm': 1.0,\n 'fast_dev_run': True,\n 'do_train': False,\n 'do_predict': False,\n 'gradient_accumulation_steps': 1,\n 'seed': 42,\n 'model_name_or_path': 'bert-base-cased',\n 'config_name': '',\n 'tokenizer_name': '',\n 'cache_dir': '',\n 'learning_rate': 5e-05,\n 'weight_decay': 0.0,\n 'adam_epsilon': 1e-08,\n 'warmup_steps': 0,\n 'num_train_epochs': 3,\n 'train_batch_size': 1,\n 'eval_batch_size': 32,\n 'max_seq_length': 128,\n 'task': 'mrpc',\n 'data_dir': 'data/glue/MRPC',\n 'overwrite_cache': False,\n 'glue_output_mode': 'classification'}"
     },
     "execution_count": 3,
     "metadata": {},
     "output_type": "execute_result"
    }
   ],
   "source": [
    "hparams = dict(\n",
    "    model_name_or_path='bert-base-cased',\n",
    "    data_dir='data/glue/MRPC',\n",
    "    n_gpu=-1,\n",
    "    train_batch_size=1,\n",
    "    task='mrpc',\n",
    "    fast_dev_run=True,\n",
    ")\n",
    "\n",
    "model = GLUETransformer.from_dict(hparams)\n",
    "\n",
    "args = model.hparams\n",
    "args_to_dict(model.hparams)"
   ],
   "metadata": {
    "collapsed": false,
    "pycharm": {
     "name": "#%%\n"
    }
   }
  },
  {
   "cell_type": "markdown",
   "source": [
    "### Train model"
   ],
   "metadata": {
    "collapsed": false,
    "pycharm": {
     "name": "#%% md\n"
    }
   }
  },
  {
   "cell_type": "code",
   "execution_count": 4,
   "outputs": [
    {
     "name": "stderr",
     "output_type": "stream",
     "text": [
      "INFO:lightning:Running in fast_dev_run mode: will run a full train, val and test loop using a single batch\n"
     ]
    }
   ],
   "source": [
    "if args.output_dir is None:\n",
    "    args.output_dir = os.path.join(\"./runs\", f\"{args.task}_{time.strftime('%Y%m%d_%H%M%S')}\",)\n",
    "    os.makedirs(args.output_dir)\n",
    "\n",
    "trainer = generic_train(model, args)"
   ],
   "metadata": {
    "collapsed": false,
    "pycharm": {
     "name": "#%%\n"
    }
   }
  },
  {
   "cell_type": "code",
   "execution_count": 5,
   "outputs": [
    {
     "name": "stderr",
     "output_type": "stream",
     "text": [
      "INFO:bertology.glue:Loading features from cached file data/glue/MRPC/cached_train_bert-base-cased_128\n",
      "INFO:bertology.glue:Loading features from cached file data/glue/MRPC/cached_dev_bert-base-cased_128\n",
      "INFO:lightning:\n",
      "    | Name                                                   | Type                          | Params\n",
      "-----------------------------------------------------------------------------------------------------\n",
      "0   | model                                                  | BertForSequenceClassification | 108 M \n",
      "1   | model.bert                                             | BertModel                     | 108 M \n",
      "2   | model.bert.embeddings                                  | BertEmbeddings                | 22 M  \n",
      "3   | model.bert.embeddings.word_embeddings                  | Embedding                     | 22 M  \n",
      "4   | model.bert.embeddings.position_embeddings              | Embedding                     | 393 K \n",
      "5   | model.bert.embeddings.token_type_embeddings            | Embedding                     | 1 K   \n",
      "6   | model.bert.embeddings.LayerNorm                        | LayerNorm                     | 1 K   \n",
      "7   | model.bert.embeddings.dropout                          | Dropout                       | 0     \n",
      "8   | model.bert.encoder                                     | BertEncoder                   | 85 M  \n",
      "9   | model.bert.encoder.layer                               | ModuleList                    | 85 M  \n",
      "10  | model.bert.encoder.layer.0                             | BertLayer                     | 7 M   \n",
      "11  | model.bert.encoder.layer.0.attention                   | BertAttention                 | 2 M   \n",
      "12  | model.bert.encoder.layer.0.attention.self              | BertSelfAttention             | 1 M   \n",
      "13  | model.bert.encoder.layer.0.attention.self.query        | Linear                        | 590 K \n",
      "14  | model.bert.encoder.layer.0.attention.self.key          | Linear                        | 590 K \n",
      "15  | model.bert.encoder.layer.0.attention.self.value        | Linear                        | 590 K \n",
      "16  | model.bert.encoder.layer.0.attention.self.dropout      | Dropout                       | 0     \n",
      "17  | model.bert.encoder.layer.0.attention.output            | BertSelfOutput                | 592 K \n",
      "18  | model.bert.encoder.layer.0.attention.output.dense      | Linear                        | 590 K \n",
      "19  | model.bert.encoder.layer.0.attention.output.LayerNorm  | LayerNorm                     | 1 K   \n",
      "20  | model.bert.encoder.layer.0.attention.output.dropout    | Dropout                       | 0     \n",
      "21  | model.bert.encoder.layer.0.intermediate                | BertIntermediate              | 2 M   \n",
      "22  | model.bert.encoder.layer.0.intermediate.dense          | Linear                        | 2 M   \n",
      "23  | model.bert.encoder.layer.0.output                      | BertOutput                    | 2 M   \n",
      "24  | model.bert.encoder.layer.0.output.dense                | Linear                        | 2 M   \n",
      "25  | model.bert.encoder.layer.0.output.LayerNorm            | LayerNorm                     | 1 K   \n",
      "26  | model.bert.encoder.layer.0.output.dropout              | Dropout                       | 0     \n",
      "27  | model.bert.encoder.layer.1                             | BertLayer                     | 7 M   \n",
      "28  | model.bert.encoder.layer.1.attention                   | BertAttention                 | 2 M   \n",
      "29  | model.bert.encoder.layer.1.attention.self              | BertSelfAttention             | 1 M   \n",
      "30  | model.bert.encoder.layer.1.attention.self.query        | Linear                        | 590 K \n",
      "31  | model.bert.encoder.layer.1.attention.self.key          | Linear                        | 590 K \n",
      "32  | model.bert.encoder.layer.1.attention.self.value        | Linear                        | 590 K \n",
      "33  | model.bert.encoder.layer.1.attention.self.dropout      | Dropout                       | 0     \n",
      "34  | model.bert.encoder.layer.1.attention.output            | BertSelfOutput                | 592 K \n",
      "35  | model.bert.encoder.layer.1.attention.output.dense      | Linear                        | 590 K \n",
      "36  | model.bert.encoder.layer.1.attention.output.LayerNorm  | LayerNorm                     | 1 K   \n",
      "37  | model.bert.encoder.layer.1.attention.output.dropout    | Dropout                       | 0     \n",
      "38  | model.bert.encoder.layer.1.intermediate                | BertIntermediate              | 2 M   \n",
      "39  | model.bert.encoder.layer.1.intermediate.dense          | Linear                        | 2 M   \n",
      "40  | model.bert.encoder.layer.1.output                      | BertOutput                    | 2 M   \n",
      "41  | model.bert.encoder.layer.1.output.dense                | Linear                        | 2 M   \n",
      "42  | model.bert.encoder.layer.1.output.LayerNorm            | LayerNorm                     | 1 K   \n",
      "43  | model.bert.encoder.layer.1.output.dropout              | Dropout                       | 0     \n",
      "44  | model.bert.encoder.layer.2                             | BertLayer                     | 7 M   \n",
      "45  | model.bert.encoder.layer.2.attention                   | BertAttention                 | 2 M   \n",
      "46  | model.bert.encoder.layer.2.attention.self              | BertSelfAttention             | 1 M   \n",
      "47  | model.bert.encoder.layer.2.attention.self.query        | Linear                        | 590 K \n",
      "48  | model.bert.encoder.layer.2.attention.self.key          | Linear                        | 590 K \n",
      "49  | model.bert.encoder.layer.2.attention.self.value        | Linear                        | 590 K \n",
      "50  | model.bert.encoder.layer.2.attention.self.dropout      | Dropout                       | 0     \n",
      "51  | model.bert.encoder.layer.2.attention.output            | BertSelfOutput                | 592 K \n",
      "52  | model.bert.encoder.layer.2.attention.output.dense      | Linear                        | 590 K \n",
      "53  | model.bert.encoder.layer.2.attention.output.LayerNorm  | LayerNorm                     | 1 K   \n",
      "54  | model.bert.encoder.layer.2.attention.output.dropout    | Dropout                       | 0     \n",
      "55  | model.bert.encoder.layer.2.intermediate                | BertIntermediate              | 2 M   \n",
      "56  | model.bert.encoder.layer.2.intermediate.dense          | Linear                        | 2 M   \n",
      "57  | model.bert.encoder.layer.2.output                      | BertOutput                    | 2 M   \n",
      "58  | model.bert.encoder.layer.2.output.dense                | Linear                        | 2 M   \n",
      "59  | model.bert.encoder.layer.2.output.LayerNorm            | LayerNorm                     | 1 K   \n",
      "60  | model.bert.encoder.layer.2.output.dropout              | Dropout                       | 0     \n",
      "61  | model.bert.encoder.layer.3                             | BertLayer                     | 7 M   \n",
      "62  | model.bert.encoder.layer.3.attention                   | BertAttention                 | 2 M   \n",
      "63  | model.bert.encoder.layer.3.attention.self              | BertSelfAttention             | 1 M   \n",
      "64  | model.bert.encoder.layer.3.attention.self.query        | Linear                        | 590 K \n",
      "65  | model.bert.encoder.layer.3.attention.self.key          | Linear                        | 590 K \n",
      "66  | model.bert.encoder.layer.3.attention.self.value        | Linear                        | 590 K \n",
      "67  | model.bert.encoder.layer.3.attention.self.dropout      | Dropout                       | 0     \n",
      "68  | model.bert.encoder.layer.3.attention.output            | BertSelfOutput                | 592 K \n",
      "69  | model.bert.encoder.layer.3.attention.output.dense      | Linear                        | 590 K \n",
      "70  | model.bert.encoder.layer.3.attention.output.LayerNorm  | LayerNorm                     | 1 K   \n",
      "71  | model.bert.encoder.layer.3.attention.output.dropout    | Dropout                       | 0     \n",
      "72  | model.bert.encoder.layer.3.intermediate                | BertIntermediate              | 2 M   \n",
      "73  | model.bert.encoder.layer.3.intermediate.dense          | Linear                        | 2 M   \n",
      "74  | model.bert.encoder.layer.3.output                      | BertOutput                    | 2 M   \n",
      "75  | model.bert.encoder.layer.3.output.dense                | Linear                        | 2 M   \n",
      "76  | model.bert.encoder.layer.3.output.LayerNorm            | LayerNorm                     | 1 K   \n",
      "77  | model.bert.encoder.layer.3.output.dropout              | Dropout                       | 0     \n",
      "78  | model.bert.encoder.layer.4                             | BertLayer                     | 7 M   \n",
      "79  | model.bert.encoder.layer.4.attention                   | BertAttention                 | 2 M   \n",
      "80  | model.bert.encoder.layer.4.attention.self              | BertSelfAttention             | 1 M   \n",
      "81  | model.bert.encoder.layer.4.attention.self.query        | Linear                        | 590 K \n",
      "82  | model.bert.encoder.layer.4.attention.self.key          | Linear                        | 590 K \n",
      "83  | model.bert.encoder.layer.4.attention.self.value        | Linear                        | 590 K \n",
      "84  | model.bert.encoder.layer.4.attention.self.dropout      | Dropout                       | 0     \n",
      "85  | model.bert.encoder.layer.4.attention.output            | BertSelfOutput                | 592 K \n",
      "86  | model.bert.encoder.layer.4.attention.output.dense      | Linear                        | 590 K \n",
      "87  | model.bert.encoder.layer.4.attention.output.LayerNorm  | LayerNorm                     | 1 K   \n",
      "88  | model.bert.encoder.layer.4.attention.output.dropout    | Dropout                       | 0     \n",
      "89  | model.bert.encoder.layer.4.intermediate                | BertIntermediate              | 2 M   \n",
      "90  | model.bert.encoder.layer.4.intermediate.dense          | Linear                        | 2 M   \n",
      "91  | model.bert.encoder.layer.4.output                      | BertOutput                    | 2 M   \n",
      "92  | model.bert.encoder.layer.4.output.dense                | Linear                        | 2 M   \n",
      "93  | model.bert.encoder.layer.4.output.LayerNorm            | LayerNorm                     | 1 K   \n",
      "94  | model.bert.encoder.layer.4.output.dropout              | Dropout                       | 0     \n",
      "95  | model.bert.encoder.layer.5                             | BertLayer                     | 7 M   \n",
      "96  | model.bert.encoder.layer.5.attention                   | BertAttention                 | 2 M   \n",
      "97  | model.bert.encoder.layer.5.attention.self              | BertSelfAttention             | 1 M   \n",
      "98  | model.bert.encoder.layer.5.attention.self.query        | Linear                        | 590 K \n",
      "99  | model.bert.encoder.layer.5.attention.self.key          | Linear                        | 590 K \n",
      "100 | model.bert.encoder.layer.5.attention.self.value        | Linear                        | 590 K \n",
      "101 | model.bert.encoder.layer.5.attention.self.dropout      | Dropout                       | 0     \n",
      "102 | model.bert.encoder.layer.5.attention.output            | BertSelfOutput                | 592 K \n",
      "103 | model.bert.encoder.layer.5.attention.output.dense      | Linear                        | 590 K \n",
      "104 | model.bert.encoder.layer.5.attention.output.LayerNorm  | LayerNorm                     | 1 K   \n",
      "105 | model.bert.encoder.layer.5.attention.output.dropout    | Dropout                       | 0     \n",
      "106 | model.bert.encoder.layer.5.intermediate                | BertIntermediate              | 2 M   \n",
      "107 | model.bert.encoder.layer.5.intermediate.dense          | Linear                        | 2 M   \n",
      "108 | model.bert.encoder.layer.5.output                      | BertOutput                    | 2 M   \n",
      "109 | model.bert.encoder.layer.5.output.dense                | Linear                        | 2 M   \n",
      "110 | model.bert.encoder.layer.5.output.LayerNorm            | LayerNorm                     | 1 K   \n",
      "111 | model.bert.encoder.layer.5.output.dropout              | Dropout                       | 0     \n",
      "112 | model.bert.encoder.layer.6                             | BertLayer                     | 7 M   \n",
      "113 | model.bert.encoder.layer.6.attention                   | BertAttention                 | 2 M   \n",
      "114 | model.bert.encoder.layer.6.attention.self              | BertSelfAttention             | 1 M   \n",
      "115 | model.bert.encoder.layer.6.attention.self.query        | Linear                        | 590 K \n",
      "116 | model.bert.encoder.layer.6.attention.self.key          | Linear                        | 590 K \n",
      "117 | model.bert.encoder.layer.6.attention.self.value        | Linear                        | 590 K \n",
      "118 | model.bert.encoder.layer.6.attention.self.dropout      | Dropout                       | 0     \n",
      "119 | model.bert.encoder.layer.6.attention.output            | BertSelfOutput                | 592 K \n",
      "120 | model.bert.encoder.layer.6.attention.output.dense      | Linear                        | 590 K \n",
      "121 | model.bert.encoder.layer.6.attention.output.LayerNorm  | LayerNorm                     | 1 K   \n",
      "122 | model.bert.encoder.layer.6.attention.output.dropout    | Dropout                       | 0     \n",
      "123 | model.bert.encoder.layer.6.intermediate                | BertIntermediate              | 2 M   \n",
      "124 | model.bert.encoder.layer.6.intermediate.dense          | Linear                        | 2 M   \n",
      "125 | model.bert.encoder.layer.6.output                      | BertOutput                    | 2 M   \n",
      "126 | model.bert.encoder.layer.6.output.dense                | Linear                        | 2 M   \n",
      "127 | model.bert.encoder.layer.6.output.LayerNorm            | LayerNorm                     | 1 K   \n",
      "128 | model.bert.encoder.layer.6.output.dropout              | Dropout                       | 0     \n",
      "129 | model.bert.encoder.layer.7                             | BertLayer                     | 7 M   \n",
      "130 | model.bert.encoder.layer.7.attention                   | BertAttention                 | 2 M   \n",
      "131 | model.bert.encoder.layer.7.attention.self              | BertSelfAttention             | 1 M   \n",
      "132 | model.bert.encoder.layer.7.attention.self.query        | Linear                        | 590 K \n",
      "133 | model.bert.encoder.layer.7.attention.self.key          | Linear                        | 590 K \n",
      "134 | model.bert.encoder.layer.7.attention.self.value        | Linear                        | 590 K \n",
      "135 | model.bert.encoder.layer.7.attention.self.dropout      | Dropout                       | 0     \n",
      "136 | model.bert.encoder.layer.7.attention.output            | BertSelfOutput                | 592 K \n",
      "137 | model.bert.encoder.layer.7.attention.output.dense      | Linear                        | 590 K \n",
      "138 | model.bert.encoder.layer.7.attention.output.LayerNorm  | LayerNorm                     | 1 K   \n",
      "139 | model.bert.encoder.layer.7.attention.output.dropout    | Dropout                       | 0     \n",
      "140 | model.bert.encoder.layer.7.intermediate                | BertIntermediate              | 2 M   \n",
      "141 | model.bert.encoder.layer.7.intermediate.dense          | Linear                        | 2 M   \n",
      "142 | model.bert.encoder.layer.7.output                      | BertOutput                    | 2 M   \n",
      "143 | model.bert.encoder.layer.7.output.dense                | Linear                        | 2 M   \n",
      "144 | model.bert.encoder.layer.7.output.LayerNorm            | LayerNorm                     | 1 K   \n",
      "145 | model.bert.encoder.layer.7.output.dropout              | Dropout                       | 0     \n",
      "146 | model.bert.encoder.layer.8                             | BertLayer                     | 7 M   \n",
      "147 | model.bert.encoder.layer.8.attention                   | BertAttention                 | 2 M   \n",
      "148 | model.bert.encoder.layer.8.attention.self              | BertSelfAttention             | 1 M   \n",
      "149 | model.bert.encoder.layer.8.attention.self.query        | Linear                        | 590 K \n",
      "150 | model.bert.encoder.layer.8.attention.self.key          | Linear                        | 590 K \n",
      "151 | model.bert.encoder.layer.8.attention.self.value        | Linear                        | 590 K \n",
      "152 | model.bert.encoder.layer.8.attention.self.dropout      | Dropout                       | 0     \n",
      "153 | model.bert.encoder.layer.8.attention.output            | BertSelfOutput                | 592 K \n",
      "154 | model.bert.encoder.layer.8.attention.output.dense      | Linear                        | 590 K \n",
      "155 | model.bert.encoder.layer.8.attention.output.LayerNorm  | LayerNorm                     | 1 K   \n",
      "156 | model.bert.encoder.layer.8.attention.output.dropout    | Dropout                       | 0     \n",
      "157 | model.bert.encoder.layer.8.intermediate                | BertIntermediate              | 2 M   \n",
      "158 | model.bert.encoder.layer.8.intermediate.dense          | Linear                        | 2 M   \n",
      "159 | model.bert.encoder.layer.8.output                      | BertOutput                    | 2 M   \n",
      "160 | model.bert.encoder.layer.8.output.dense                | Linear                        | 2 M   \n",
      "161 | model.bert.encoder.layer.8.output.LayerNorm            | LayerNorm                     | 1 K   \n",
      "162 | model.bert.encoder.layer.8.output.dropout              | Dropout                       | 0     \n",
      "163 | model.bert.encoder.layer.9                             | BertLayer                     | 7 M   \n",
      "164 | model.bert.encoder.layer.9.attention                   | BertAttention                 | 2 M   \n",
      "165 | model.bert.encoder.layer.9.attention.self              | BertSelfAttention             | 1 M   \n",
      "166 | model.bert.encoder.layer.9.attention.self.query        | Linear                        | 590 K \n",
      "167 | model.bert.encoder.layer.9.attention.self.key          | Linear                        | 590 K \n",
      "168 | model.bert.encoder.layer.9.attention.self.value        | Linear                        | 590 K \n",
      "169 | model.bert.encoder.layer.9.attention.self.dropout      | Dropout                       | 0     \n",
      "170 | model.bert.encoder.layer.9.attention.output            | BertSelfOutput                | 592 K \n",
      "171 | model.bert.encoder.layer.9.attention.output.dense      | Linear                        | 590 K \n",
      "172 | model.bert.encoder.layer.9.attention.output.LayerNorm  | LayerNorm                     | 1 K   \n",
      "173 | model.bert.encoder.layer.9.attention.output.dropout    | Dropout                       | 0     \n",
      "174 | model.bert.encoder.layer.9.intermediate                | BertIntermediate              | 2 M   \n",
      "175 | model.bert.encoder.layer.9.intermediate.dense          | Linear                        | 2 M   \n",
      "176 | model.bert.encoder.layer.9.output                      | BertOutput                    | 2 M   \n",
      "177 | model.bert.encoder.layer.9.output.dense                | Linear                        | 2 M   \n",
      "178 | model.bert.encoder.layer.9.output.LayerNorm            | LayerNorm                     | 1 K   \n",
      "179 | model.bert.encoder.layer.9.output.dropout              | Dropout                       | 0     \n",
      "180 | model.bert.encoder.layer.10                            | BertLayer                     | 7 M   \n",
      "181 | model.bert.encoder.layer.10.attention                  | BertAttention                 | 2 M   \n",
      "182 | model.bert.encoder.layer.10.attention.self             | BertSelfAttention             | 1 M   \n",
      "183 | model.bert.encoder.layer.10.attention.self.query       | Linear                        | 590 K \n",
      "184 | model.bert.encoder.layer.10.attention.self.key         | Linear                        | 590 K \n",
      "185 | model.bert.encoder.layer.10.attention.self.value       | Linear                        | 590 K \n",
      "186 | model.bert.encoder.layer.10.attention.self.dropout     | Dropout                       | 0     \n",
      "187 | model.bert.encoder.layer.10.attention.output           | BertSelfOutput                | 592 K \n",
      "188 | model.bert.encoder.layer.10.attention.output.dense     | Linear                        | 590 K \n",
      "189 | model.bert.encoder.layer.10.attention.output.LayerNorm | LayerNorm                     | 1 K   \n",
      "190 | model.bert.encoder.layer.10.attention.output.dropout   | Dropout                       | 0     \n",
      "191 | model.bert.encoder.layer.10.intermediate               | BertIntermediate              | 2 M   \n",
      "192 | model.bert.encoder.layer.10.intermediate.dense         | Linear                        | 2 M   \n",
      "193 | model.bert.encoder.layer.10.output                     | BertOutput                    | 2 M   \n",
      "194 | model.bert.encoder.layer.10.output.dense               | Linear                        | 2 M   \n",
      "195 | model.bert.encoder.layer.10.output.LayerNorm           | LayerNorm                     | 1 K   \n",
      "196 | model.bert.encoder.layer.10.output.dropout             | Dropout                       | 0     \n",
      "197 | model.bert.encoder.layer.11                            | BertLayer                     | 7 M   \n",
      "198 | model.bert.encoder.layer.11.attention                  | BertAttention                 | 2 M   \n",
      "199 | model.bert.encoder.layer.11.attention.self             | BertSelfAttention             | 1 M   \n",
      "200 | model.bert.encoder.layer.11.attention.self.query       | Linear                        | 590 K \n",
      "201 | model.bert.encoder.layer.11.attention.self.key         | Linear                        | 590 K \n",
      "202 | model.bert.encoder.layer.11.attention.self.value       | Linear                        | 590 K \n",
      "203 | model.bert.encoder.layer.11.attention.self.dropout     | Dropout                       | 0     \n",
      "204 | model.bert.encoder.layer.11.attention.output           | BertSelfOutput                | 592 K \n",
      "205 | model.bert.encoder.layer.11.attention.output.dense     | Linear                        | 590 K \n",
      "206 | model.bert.encoder.layer.11.attention.output.LayerNorm | LayerNorm                     | 1 K   \n",
      "207 | model.bert.encoder.layer.11.attention.output.dropout   | Dropout                       | 0     \n",
      "208 | model.bert.encoder.layer.11.intermediate               | BertIntermediate              | 2 M   \n",
      "209 | model.bert.encoder.layer.11.intermediate.dense         | Linear                        | 2 M   \n",
      "210 | model.bert.encoder.layer.11.output                     | BertOutput                    | 2 M   \n",
      "211 | model.bert.encoder.layer.11.output.dense               | Linear                        | 2 M   \n",
      "212 | model.bert.encoder.layer.11.output.LayerNorm           | LayerNorm                     | 1 K   \n",
      "213 | model.bert.encoder.layer.11.output.dropout             | Dropout                       | 0     \n",
      "214 | model.bert.pooler                                      | BertPooler                    | 590 K \n",
      "215 | model.bert.pooler.dense                                | Linear                        | 590 K \n",
      "216 | model.bert.pooler.activation                           | Tanh                          | 0     \n",
      "217 | model.dropout                                          | Dropout                       | 0     \n",
      "218 | model.classifier                                       | Linear                        | 1 K   \n",
      "/dvl/nlp/learning/bertology-workshop/.pyenv/lib/python3.6/site-packages/pytorch_lightning/utilities/warnings.py:18: RuntimeWarning: Displayed epoch numbers in the progress bar start from \"1\" until v0.6.x, but will start from \"0\" in v0.8.0.\n",
      "  warnings.warn(*args, **kwargs)\n",
      "INFO:bertology.glue:Loading features from cached file data/glue/MRPC/cached_train_bert-base-cased_128\n",
      "/dvl/nlp/learning/bertology-workshop/.pyenv/lib/python3.6/site-packages/pytorch_lightning/utilities/warnings.py:18: UserWarning: The dataloader, train dataloader, does not have many workers which may be a bottleneck. Consider increasing the value of the `num_workers` argument` in the `DataLoader` init to improve performance.\n",
      "  warnings.warn(*args, **kwargs)\n",
      "INFO:bertology.glue:Loading features from cached file data/glue/MRPC/cached_dev_bert-base-cased_128\n",
      "/dvl/nlp/learning/bertology-workshop/.pyenv/lib/python3.6/site-packages/pytorch_lightning/utilities/warnings.py:18: UserWarning: The dataloader, val dataloader 0, does not have many workers which may be a bottleneck. Consider increasing the value of the `num_workers` argument` in the `DataLoader` init to improve performance.\n",
      "  warnings.warn(*args, **kwargs)\n",
      "INFO:bertology._base:***** Validation results *****\n",
      "INFO:bertology._base:acc = 0.25\n",
      "\n",
      "INFO:bertology._base:acc_and_f1 = 0.125\n",
      "\n",
      "INFO:bertology._base:epoch = 0\n",
      "\n",
      "INFO:bertology._base:f1 = 0.0\n",
      "\n",
      "INFO:bertology._base:loss = 0.5796622037887573\n",
      "\n",
      "INFO:bertology._base:rate = 5e-05\n",
      "\n",
      "INFO:bertology._base:val_loss = 0.8099157214164734\n",
      "\n"
     ]
    },
    {
     "data": {
      "text/plain": "HBox(children=(FloatProgress(value=1.0, bar_style='info', layout=Layout(flex='2'), max=1.0), HTML(value='')), …",
      "application/vnd.jupyter.widget-view+json": {
       "version_major": 2,
       "version_minor": 0,
       "model_id": "b34cd977ea27409b910cd8206e6c28e7"
      }
     },
     "metadata": {},
     "output_type": "display_data"
    },
    {
     "data": {
      "text/plain": "HBox(children=(FloatProgress(value=0.0, description='Validating', layout=Layout(flex='2'), max=1.0, style=Prog…",
      "application/vnd.jupyter.widget-view+json": {
       "version_major": 2,
       "version_minor": 0,
       "model_id": "32a34139aa624c85b297e9438ae2b456"
      }
     },
     "metadata": {},
     "output_type": "display_data"
    },
    {
     "name": "stdout",
     "output_type": "stream",
     "text": [
      "\n"
     ]
    },
    {
     "data": {
      "text/plain": "1"
     },
     "execution_count": 5,
     "metadata": {},
     "output_type": "execute_result"
    }
   ],
   "source": [
    "trainer.fit(model)"
   ],
   "metadata": {
    "collapsed": false,
    "pycharm": {
     "name": "#%%\n"
    }
   }
  },
  {
   "cell_type": "markdown",
   "source": [
    "### Get metrics from the last checkpoint"
   ],
   "metadata": {
    "collapsed": false,
    "pycharm": {
     "name": "#%% md\n"
    }
   }
  },
  {
   "cell_type": "code",
   "execution_count": 6,
   "outputs": [],
   "source": [
    "checkpoints = list(sorted(glob.glob(\n",
    "    os.path.join(args.output_dir, \"checkpointepoch=*.ckpt\"), recursive=True)))"
   ],
   "metadata": {
    "collapsed": false,
    "pycharm": {
     "name": "#%%\n"
    }
   }
  },
  {
   "cell_type": "code",
   "execution_count": 10,
   "outputs": [
    {
     "name": "stderr",
     "output_type": "stream",
     "text": [
      "INFO:transformers.configuration_utils:loading configuration file https://s3.amazonaws.com/models.huggingface.co/bert/bert-base-cased-config.json from cache at /Users/diunko/.cache/torch/transformers/b945b69218e98b3e2c95acf911789741307dec43c698d35fad11c1ae28bda352.9da767be51e1327499df13488672789394e2ca38b877837e52618a67d7002391\n",
      "INFO:transformers.configuration_utils:Model config BertConfig {\n",
      "  \"architectures\": [\n",
      "    \"BertForMaskedLM\"\n",
      "  ],\n",
      "  \"attention_probs_dropout_prob\": 0.1,\n",
      "  \"hidden_act\": \"gelu\",\n",
      "  \"hidden_dropout_prob\": 0.1,\n",
      "  \"hidden_size\": 768,\n",
      "  \"initializer_range\": 0.02,\n",
      "  \"intermediate_size\": 3072,\n",
      "  \"layer_norm_eps\": 1e-12,\n",
      "  \"max_position_embeddings\": 512,\n",
      "  \"model_type\": \"bert\",\n",
      "  \"num_attention_heads\": 12,\n",
      "  \"num_hidden_layers\": 12,\n",
      "  \"pad_token_id\": 0,\n",
      "  \"type_vocab_size\": 2,\n",
      "  \"vocab_size\": 28996\n",
      "}\n",
      "\n",
      "INFO:transformers.configuration_utils:loading configuration file https://s3.amazonaws.com/models.huggingface.co/bert/bert-base-cased-config.json from cache at /Users/diunko/.cache/torch/transformers/b945b69218e98b3e2c95acf911789741307dec43c698d35fad11c1ae28bda352.9da767be51e1327499df13488672789394e2ca38b877837e52618a67d7002391\n",
      "INFO:transformers.configuration_utils:Model config BertConfig {\n",
      "  \"architectures\": [\n",
      "    \"BertForMaskedLM\"\n",
      "  ],\n",
      "  \"attention_probs_dropout_prob\": 0.1,\n",
      "  \"hidden_act\": \"gelu\",\n",
      "  \"hidden_dropout_prob\": 0.1,\n",
      "  \"hidden_size\": 768,\n",
      "  \"initializer_range\": 0.02,\n",
      "  \"intermediate_size\": 3072,\n",
      "  \"layer_norm_eps\": 1e-12,\n",
      "  \"max_position_embeddings\": 512,\n",
      "  \"model_type\": \"bert\",\n",
      "  \"num_attention_heads\": 12,\n",
      "  \"num_hidden_layers\": 12,\n",
      "  \"pad_token_id\": 0,\n",
      "  \"type_vocab_size\": 2,\n",
      "  \"vocab_size\": 28996\n",
      "}\n",
      "\n",
      "INFO:transformers.tokenization_utils:loading file https://s3.amazonaws.com/models.huggingface.co/bert/bert-base-cased-vocab.txt from cache at /Users/diunko/.cache/torch/transformers/5e8a2b4893d13790ed4150ca1906be5f7a03d6c4ddf62296c383f6db42814db2.e13dbb970cb325137104fb2e5f36fe865f27746c6b526f6352861b1980eb80b1\n",
      "INFO:transformers.modeling_utils:loading weights file https://cdn.huggingface.co/bert-base-cased-pytorch_model.bin from cache at /Users/diunko/.cache/torch/transformers/d8f11f061e407be64c4d5d7867ee61d1465263e24085cfa26abf183fdc830569.3fadbea36527ae472139fe84cddaa65454d7429f12d543d80bfc3ad70de55ac2\n",
      "INFO:transformers.modeling_utils:Weights of BertForSequenceClassification not initialized from pretrained model: ['classifier.weight', 'classifier.bias']\n",
      "INFO:transformers.modeling_utils:Weights from pretrained model not used in BertForSequenceClassification: ['cls.predictions.bias', 'cls.predictions.transform.dense.weight', 'cls.predictions.transform.dense.bias', 'cls.predictions.decoder.weight', 'cls.seq_relationship.weight', 'cls.seq_relationship.bias', 'cls.predictions.transform.LayerNorm.weight', 'cls.predictions.transform.LayerNorm.bias']\n",
      "INFO:bertology.glue:Loading features from cached file data/glue/MRPC/cached_train_bert-base-cased_128\n",
      "INFO:bertology.glue:Loading features from cached file data/glue/MRPC/cached_dev_bert-base-cased_128\n",
      "INFO:bertology.glue:Loading features from cached file data/glue/MRPC/cached_dev_bert-base-cased_128\n",
      "/dvl/nlp/learning/bertology-workshop/.pyenv/lib/python3.6/site-packages/pytorch_lightning/utilities/warnings.py:18: UserWarning: The dataloader, test dataloader 0, does not have many workers which may be a bottleneck. Consider increasing the value of the `num_workers` argument` in the `DataLoader` init to improve performance.\n",
      "  warnings.warn(*args, **kwargs)\n",
      "INFO:bertology._base:***** Test results *****\n",
      "INFO:bertology._base:acc = 0.28125\n",
      "\n",
      "INFO:bertology._base:acc_and_f1 = 0.140625\n",
      "\n",
      "INFO:bertology._base:avg_test_loss = 0.796065628528595\n",
      "\n",
      "INFO:bertology._base:epoch = 0\n",
      "\n",
      "INFO:bertology._base:f1 = 0.0\n",
      "\n",
      "INFO:bertology._base:loss = 0.5796622037887573\n",
      "\n",
      "INFO:bertology._base:rate = 5e-05\n",
      "\n",
      "INFO:bertology._base:val_loss = 0.796065628528595\n",
      "\n"
     ]
    },
    {
     "data": {
      "text/plain": "HBox(children=(FloatProgress(value=0.0, description='Testing', layout=Layout(flex='2'), max=1.0, style=Progres…",
      "application/vnd.jupyter.widget-view+json": {
       "version_major": 2,
       "version_minor": 0,
       "model_id": "9a55f62bb8d640e18c97bacbc1e3e471"
      }
     },
     "metadata": {},
     "output_type": "display_data"
    },
    {
     "name": "stdout",
     "output_type": "stream",
     "text": [
      "--------------------------------------------------------------------------------\n",
      "TEST RESULTS\n",
      "{'acc': 0.28125,\n",
      " 'acc_and_f1': 0.140625,\n",
      " 'avg_test_loss': 0.796065628528595,\n",
      " 'f1': 0.0,\n",
      " 'val_loss': 0.796065628528595}\n",
      "--------------------------------------------------------------------------------\n",
      "\n"
     ]
    }
   ],
   "source": [
    "model = GLUETransformer.load_from_checkpoint(checkpoints[-1])\n",
    "trainer.test(model)\n"
   ],
   "metadata": {
    "collapsed": false,
    "pycharm": {
     "name": "#%%\n"
    }
   }
  }
 ],
 "metadata": {
  "kernelspec": {
   "display_name": "Python 3",
   "language": "python",
   "name": "python3"
  },
  "language_info": {
   "codemirror_mode": {
    "name": "ipython",
    "version": 2
   },
   "file_extension": ".py",
   "mimetype": "text/x-python",
   "name": "python",
   "nbconvert_exporter": "python",
   "pygments_lexer": "ipython2",
   "version": "2.7.6"
  }
 },
 "nbformat": 4,
 "nbformat_minor": 0
}